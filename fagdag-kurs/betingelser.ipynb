{
 "cells": [
  {
   "cell_type": "markdown",
   "metadata": {},
   "source": [
    "# Python fagdag - kurs"
   ]
  },
  {
   "cell_type": "code",
   "execution_count": 1,
   "metadata": {},
   "outputs": [
    {
     "name": "stdout",
     "output_type": "stream",
     "text": [
      "Velkommen til fagdagens Python-kurs. La oss lære litt Python\n"
     ]
    }
   ],
   "source": [
    "# Introduksjon\n",
    "print(\"Velkommen til fagdagens Python-kurs. La oss lære litt Python\")"
   ]
  },
  {
   "cell_type": "markdown",
   "metadata": {},
   "source": [
    "### Intro betingelser"
   ]
  },
  {
   "cell_type": "markdown",
   "metadata": {},
   "source": [
    "I programmering er betingelser som beslutningstakere i koden din. Med betingelser kan programmet ditt ta ulike valg og utgjøre ulike handlinger basert på valget. "
   ]
  },
  {
   "cell_type": "markdown",
   "metadata": {},
   "source": [
    "Tenk på betingelser som `\"hvis-da\"` logikk. \"`Hvis` noe er sant, gjør dette; `ellers` gjør dette\"."
   ]
  },
  {
   "cell_type": "markdown",
   "metadata": {},
   "source": [
    "<b>Eksempel 1:</b>"
   ]
  },
  {
   "cell_type": "code",
   "execution_count": 2,
   "metadata": {},
   "outputs": [
    {
     "name": "stdout",
     "output_type": "stream",
     "text": [
      "Du kan ikke stemme\n"
     ]
    }
   ],
   "source": [
    "alder = 16\n",
    "if alder < 18:\n",
    "    print(\"Du kan ikke stemme\")\n",
    "else:\n",
    "    print(\"Du kan stemme\")"
   ]
  },
  {
   "cell_type": "markdown",
   "metadata": {},
   "source": [
    "I dette eksempelet sjekker programmet om variabelen `alder` er mindre enn `18`. Hvis det er sant, skriver det ut `\"Du kan ikke stemme\"`. Hvis det er usant, skriver det ut `\"Du kan stemme.\"`"
   ]
  },
  {
   "cell_type": "markdown",
   "metadata": {},
   "source": [
    "### Ulike tester"
   ]
  },
  {
   "cell_type": "markdown",
   "metadata": {},
   "source": [
    "Vi kan teste mange ulike ting med betingelser, og de viktigste er gitt i tabellen nedenfor:"
   ]
  },
  {
   "cell_type": "markdown",
   "metadata": {},
   "source": [
    "<table>\n",
    "  <tr>\n",
    "    <th>Test</th>\n",
    "    <th>Forklaring</th>\n",
    "    <th>Eksempel</th>\n",
    "  </tr>\n",
    "   <tr>\n",
    "    <td>==</td>\n",
    "    <td>Er lik </td>\n",
    "    <td>10 == 5 er Usant</td>\n",
    "  </tr>\n",
    "  <tr>\n",
    "    <td>!=</td>\n",
    "    <td>Er ikke lik </td>\n",
    "    <td>10 != 5 er Sant</td>\n",
    "  </tr>\n",
    "  <tr>\n",
    "    <td><</td>\n",
    "    <td>Mindre enn </td>\n",
    "    <td>2 < 4 er Sant</td>\n",
    "  </tr>\n",
    "  <tr>\n",
    "    <td>></td>\n",
    "    <td>Større enn </td>\n",
    "    <td>4 > 4 er Usant</td>\n",
    "  </tr>\n",
    " \n",
    "  <tr>\n",
    "    <td>>=</td>\n",
    "    <td>Større eller lik </td>\n",
    "    <td>4 > 4 er Sant</td>\n",
    "  </tr>\n",
    "   <tr>\n",
    "    <td><=</td>\n",
    "    <td>Mindre eller lik </td>\n",
    "    <td>2 <= 2 er Sant</td>\n",
    "  </tr>\n",
    "</table>"
   ]
  },
  {
   "cell_type": "markdown",
   "metadata": {},
   "source": [
    "### If, elif og else"
   ]
  },
  {
   "cell_type": "markdown",
   "metadata": {},
   "source": [
    "Prøv å forklar/forstå sammen med de du sitter med hva følgende kode gjør. Jeg vil hjelpe dere med å forklare, så bare rekk opp hånden."
   ]
  },
  {
   "cell_type": "code",
   "execution_count": 4,
   "metadata": {},
   "outputs": [
    {
     "name": "stdout",
     "output_type": "stream",
     "text": [
      "Karakteren din er: C\n"
     ]
    }
   ],
   "source": [
    "score = 75\n",
    "\n",
    "# Gi karakteren\n",
    "if score >= 90:\n",
    "    grade = \"A\"\n",
    "elif score >= 80:\n",
    "    grade = \"B\"\n",
    "elif score >= 70:\n",
    "    grade = \"C\"\n",
    "elif score >= 60:\n",
    "    grade = \"D\"\n",
    "else:\n",
    "    grade = \"F\"\n",
    "\n",
    "# Gi resultat\n",
    "print(\"Karakteren din er:\", grade)\n"
   ]
  },
  {
   "cell_type": "markdown",
   "metadata": {},
   "source": [
    "<b>Forklaring:</b>"
   ]
  },
  {
   "cell_type": "markdown",
   "metadata": {},
   "source": [
    "1. Vi lager en variabel `score` og gir den verdien 75\n",
    "\n",
    "2. Dersom `score >= 90`, så blir variabelen grade satt til \"A\". Siden `score` har verdien 75 gir `if score >= 90` usant. Dermed kjører ikke koden inne i `if`-blokken, og programmet hopper til neste linje\n",
    "\n",
    "3. Neste linje tester om `score >= 80`. Dette er usant, så koden inne i første `elif`-blokk kjører ikke. Programmet hopper til neste linje\n",
    "\n",
    "4. Neste linje tester om `score >= 70`. Dette er sant, så koden som er innrykket kjører. En variabel `grade` blir laget, og gitt verdien `\"C\"`. Programmet hopper da over neste `elif`-setning og `else`-setningen. \n",
    "\n",
    "5. Til slutt kjøres `print`-setningen som gir karakteren ut"
   ]
  },
  {
   "cell_type": "markdown",
   "metadata": {},
   "source": [
    "### Oppgave"
   ]
  },
  {
   "cell_type": "markdown",
   "metadata": {},
   "source": [
    "Prøv å endre på koden ovenfor som ga en karakter basert på en score. Gjør systemet om til det norske systemet, slik at den gir en karakter fra 1-6 basert på en prosent. "
   ]
  }
 ],
 "metadata": {
  "kernelspec": {
   "display_name": "Python 3.11.0 64-bit",
   "language": "python",
   "name": "python3"
  },
  "language_info": {
   "codemirror_mode": {
    "name": "ipython",
    "version": 3
   },
   "file_extension": ".py",
   "mimetype": "text/x-python",
   "name": "python",
   "nbconvert_exporter": "python",
   "pygments_lexer": "ipython3",
   "version": "3.11.0"
  },
  "orig_nbformat": 4,
  "vscode": {
   "interpreter": {
    "hash": "aee8b7b246df8f9039afb4144a1f6fd8d2ca17a180786b69acc140d282b71a49"
   }
  }
 },
 "nbformat": 4,
 "nbformat_minor": 2
}
